{
 "cells": [
  {
   "cell_type": "markdown",
   "id": "922e72a6-517c-4087-8462-655ddc9b615b",
   "metadata": {},
   "source": [
    "### 1. Generate Synthetic Data"
   ]
  },
  {
   "cell_type": "code",
   "execution_count": 1,
   "id": "57389fc9-de5c-42c0-957b-242ab4428780",
   "metadata": {},
   "outputs": [
    {
     "name": "stdout",
     "output_type": "stream",
     "text": [
      "Data generated and saved!\n"
     ]
    }
   ],
   "source": [
    "import pandas as pd\n",
    "import datetime\n",
    "import random\n",
    "\n",
    "# Adjust duration and sampling rate\n",
    "duration_minutes = 300  # 5 hours to generate more data\n",
    "sampling_rate_hz = 20  # Increased sampling rate\n",
    "num_samples = duration_minutes * 60 * sampling_rate_hz\n",
    "\n",
    "timestamps = []\n",
    "cpu_temperatures = []\n",
    "cpu_usages = []\n",
    "memory_usages = []\n",
    "\n",
    "# Generate synthetic data\n",
    "for _ in range(num_samples):\n",
    "    current_time = datetime.datetime.now()\n",
    "    timestamps.append(current_time)\n",
    "    cpu_temperatures.append(random.uniform(30, 90))  # Normal CPU temp range\n",
    "    cpu_usages.append(random.uniform(0, 100))  # CPU usage in percentage\n",
    "    memory_usages.append(random.uniform(20, 80))  # Memory usage in percentage\n",
    "\n",
    "# Create DataFrame\n",
    "data = {\n",
    "    'timestamp': timestamps,\n",
    "    'cpu_temperature': cpu_temperatures,\n",
    "    'cpu_usage': cpu_usages,\n",
    "    'memory_usage': memory_usages\n",
    "}\n",
    "\n",
    "df = pd.DataFrame(data)\n",
    "\n",
    "# Save data to CSV\n",
    "df.to_csv('synthetic_time_series_data.csv', index=False)\n",
    "print(\"Data generated and saved!\")\n"
   ]
  },
  {
   "cell_type": "markdown",
   "id": "2bd2b9e8-8695-4dae-b443-47cfdf378c83",
   "metadata": {},
   "source": [
    "### 2. Apply Anomaly Detection"
   ]
  },
  {
   "cell_type": "code",
   "execution_count": 5,
   "id": "58917987-7d3a-4c52-b856-d8b3467d484d",
   "metadata": {},
   "outputs": [
    {
     "name": "stdout",
     "output_type": "stream",
     "text": [
      "Anomalies detected: 0\n"
     ]
    }
   ],
   "source": [
    "import numpy as np\n",
    "\n",
    "# Calculate Z-Scores\n",
    "df['cpu_temp_zscore'] = (df['cpu_temperature'] - df['cpu_temperature'].mean()) / df['cpu_temperature'].std()\n",
    "df['cpu_usage_zscore'] = (df['cpu_usage'] - df['cpu_usage'].mean()) / df['cpu_usage'].std()\n",
    "\n",
    "# Define anomaly thresholds\n",
    "anomaly_threshold = 3\n",
    "\n",
    "# Detect anomalies\n",
    "df['anomaly'] = (abs(df['cpu_temp_zscore']) > anomaly_threshold) | (abs(df['cpu_usage_zscore']) > anomaly_threshold)\n",
    "\n",
    "# Filter anomalies\n",
    "anomalies = df[df['anomaly']]\n",
    "print(f\"Anomalies detected: {len(anomalies)}\")\n"
   ]
  },
  {
   "cell_type": "code",
   "execution_count": null,
   "id": "99115514-565a-423f-ad81-ecae06d35d2f",
   "metadata": {},
   "outputs": [],
   "source": []
  }
 ],
 "metadata": {
  "kernelspec": {
   "display_name": "Python 3 (ipykernel)",
   "language": "python",
   "name": "python3"
  },
  "language_info": {
   "codemirror_mode": {
    "name": "ipython",
    "version": 3
   },
   "file_extension": ".py",
   "mimetype": "text/x-python",
   "name": "python",
   "nbconvert_exporter": "python",
   "pygments_lexer": "ipython3",
   "version": "3.12.4"
  }
 },
 "nbformat": 4,
 "nbformat_minor": 5
}
